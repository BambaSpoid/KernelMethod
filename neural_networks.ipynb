{
  "nbformat": 4,
  "nbformat_minor": 0,
  "metadata": {
    "colab": {
      "name": "RNN.ipynb",
      "provenance": [],
      "collapsed_sections": []
    },
    "kernelspec": {
      "name": "python3",
      "display_name": "Python 3"
    },
    "language_info": {
      "name": "python"
    },
    "accelerator": "GPU"
  },
  "cells": [
    {
      "cell_type": "code",
      "execution_count": 8,
      "metadata": {
        "id": "K4YR34b0KWrS"
      },
      "outputs": [],
      "source": [
        "import keras\n",
        "import tensorflow as tf\n",
        "import pandas as pd"
      ]
    },
    {
      "cell_type": "code",
      "source": [
        "train=pd.read_csv('/content/train.csv')"
      ],
      "metadata": {
        "id": "qbfm0SkEMSAd"
      },
      "execution_count": 9,
      "outputs": []
    },
    {
      "cell_type": "code",
      "source": [
        "test=pd.read_csv('/content/test.csv')"
      ],
      "metadata": {
        "id": "6WcHB6vLPhXv"
      },
      "execution_count": 41,
      "outputs": []
    },
    {
      "cell_type": "code",
      "source": [
        "x_train,y_train=train.iloc[:10000,1:].values,train.iloc[:10000,0].values"
      ],
      "metadata": {
        "id": "D_pJLOniMSDU"
      },
      "execution_count": 43,
      "outputs": []
    },
    {
      "cell_type": "code",
      "source": [
        "x_train=x_train.reshape(-1,28,28)"
      ],
      "metadata": {
        "id": "jfNiGk-XNW8l"
      },
      "execution_count": 53,
      "outputs": []
    },
    {
      "cell_type": "markdown",
      "source": [
        "MNIST DATASET"
      ],
      "metadata": {
        "id": "o6fhO4LbMBS8"
      }
    },
    {
      "cell_type": "code",
      "source": [
        "class image_net:\n",
        "  def __init__(self,x_train,y_train,num_epochs):\n",
        "    self.x_train=x_train\n",
        "    self.y_train=y_train\n",
        "    self.epochs=num_epochs\n",
        "    self.model=keras.Sequential([keras.layers.Flatten(input_shape=(28,28)),\n",
        "                keras.layers.Dense(128,activation = tf.nn.sigmoid),                          \n",
        "                keras.layers.Dense(10,activation = tf.nn.softmax)])\n",
        "    self.model.compile(optimizer = 'adam',loss='sparse_categorical_crossentropy',metrics =['accuracy'])\n",
        "    self.model.fit(self.x_train, self.y_train,epochs=self.epochs)\n",
        "\n",
        "    \n",
        "\n"
      ],
      "metadata": {
        "id": "HckDwadyP3ab"
      },
      "execution_count": 97,
      "outputs": []
    },
    {
      "cell_type": "code",
      "source": [
        "image_net(x_train,y_train,5)"
      ],
      "metadata": {
        "colab": {
          "base_uri": "https://localhost:8080/"
        },
        "id": "V74CuCMPLf9n",
        "outputId": "fadf8bae-ab71-468a-ae4a-8893f8757f8e"
      },
      "execution_count": 98,
      "outputs": [
        {
          "output_type": "stream",
          "name": "stdout",
          "text": [
            "Epoch 1/5\n",
            "313/313 [==============================] - 1s 3ms/step - loss: 0.9501 - accuracy: 0.7444\n",
            "Epoch 2/5\n",
            "313/313 [==============================] - 1s 3ms/step - loss: 0.5098 - accuracy: 0.8679\n",
            "Epoch 3/5\n",
            "313/313 [==============================] - 1s 3ms/step - loss: 0.4265 - accuracy: 0.8858\n",
            "Epoch 4/5\n",
            "313/313 [==============================] - 1s 3ms/step - loss: 0.3797 - accuracy: 0.8962\n",
            "Epoch 5/5\n",
            "313/313 [==============================] - 1s 3ms/step - loss: 0.3605 - accuracy: 0.9026\n"
          ]
        },
        {
          "output_type": "execute_result",
          "data": {
            "text/plain": [
              "<__main__.image_net at 0x7fc2074f0750>"
            ]
          },
          "metadata": {},
          "execution_count": 98
        }
      ]
    },
    {
      "cell_type": "markdown",
      "source": [
        "Breast-Cancer Dataset"
      ],
      "metadata": {
        "id": "euXZ7hiVLgWk"
      }
    },
    {
      "cell_type": "code",
      "source": [
        "data=pd.read_csv('/content/breast-cancer.data')"
      ],
      "metadata": {
        "id": "j-IlB_vTTIDT"
      },
      "execution_count": 101,
      "outputs": []
    },
    {
      "cell_type": "code",
      "source": [
        "data=data.apply(lambda x:x.astype('category').cat.codes)"
      ],
      "metadata": {
        "id": "_QReFXXeTfvL"
      },
      "execution_count": 121,
      "outputs": []
    },
    {
      "cell_type": "code",
      "source": [
        "x_train,y_train=data.iloc[:,:-1].values,data['no.1'].values"
      ],
      "metadata": {
        "id": "zRVGgTn2WWlH"
      },
      "execution_count": 127,
      "outputs": []
    },
    {
      "cell_type": "code",
      "source": [
        "class model:\n",
        "  def __init__(self,x_train,y_train,num_epochs):\n",
        "    self.x_train=x_train\n",
        "    self.y_train=y_train\n",
        "    self.epochs=num_epochs\n",
        "    self.model=model = keras.Sequential([\n",
        "    keras.layers.Dense(32, input_shape=(x_train.shape[1],), activation='elu'),\n",
        "    keras.layers.Dense(64, activation='elu'),\n",
        "    keras.layers.Dense(128, activation='elu'),\n",
        "    keras.layers.Dense(16, activation='elu'),\n",
        "    keras.layers.Dense(1, activation='sigmoid'),\n",
        "])\n",
        "    self.model.compile(optimizer = 'adam',loss='binary_crossentropy',metrics =['accuracy'])\n",
        "    self.model.fit(self.x_train, self.y_train,epochs=self.epochs)\n",
        "\n",
        "    \n"
      ],
      "metadata": {
        "id": "vIdQrDjTZfC2"
      },
      "execution_count": 139,
      "outputs": []
    },
    {
      "cell_type": "code",
      "source": [
        "model(x_train, y_train,5)"
      ],
      "metadata": {
        "colab": {
          "base_uri": "https://localhost:8080/"
        },
        "id": "jSBqub5QP3Pf",
        "outputId": "98655857-328f-49a7-fda0-28f150af3b4d"
      },
      "execution_count": 142,
      "outputs": [
        {
          "output_type": "stream",
          "name": "stdout",
          "text": [
            "Epoch 1/5\n",
            "9/9 [==============================] - 2s 8ms/step - loss: 0.4917 - accuracy: 0.7789\n",
            "Epoch 2/5\n",
            "9/9 [==============================] - 0s 8ms/step - loss: 0.4732 - accuracy: 0.7719\n",
            "Epoch 3/5\n",
            "9/9 [==============================] - 0s 7ms/step - loss: 0.4645 - accuracy: 0.7719\n",
            "Epoch 4/5\n",
            "9/9 [==============================] - 0s 8ms/step - loss: 0.4614 - accuracy: 0.7825\n",
            "Epoch 5/5\n",
            "9/9 [==============================] - 0s 8ms/step - loss: 0.4562 - accuracy: 0.7825\n"
          ]
        },
        {
          "output_type": "execute_result",
          "data": {
            "text/plain": [
              "<__main__.model at 0x7fc206ed88d0>"
            ]
          },
          "metadata": {},
          "execution_count": 142
        }
      ]
    },
    {
      "cell_type": "code",
      "source": [
        ""
      ],
      "metadata": {
        "id": "aBxWdC8AXKPT"
      },
      "execution_count": null,
      "outputs": []
    }
  ]
}